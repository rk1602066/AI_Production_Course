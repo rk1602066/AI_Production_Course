{
  "nbformat": 4,
  "nbformat_minor": 0,
  "metadata": {
    "colab": {
      "name": "Untitled25.ipynb",
      "provenance": []
    },
    "kernelspec": {
      "name": "python3",
      "display_name": "Python 3"
    }
  },
  "cells": [
    {
      "cell_type": "code",
      "metadata": {
        "id": "eLzKWHb7mETC"
      },
      "source": [
        "import pandas as pd"
      ],
      "execution_count": 1,
      "outputs": []
    },
    {
      "cell_type": "code",
      "metadata": {
        "colab": {
          "base_uri": "https://localhost:8080/",
          "height": 35
        },
        "id": "J1UqQ3lvrsD7",
        "outputId": "020ca781-2d47-45a7-bdfc-6fa8f56afe8d"
      },
      "source": [
        "pd.__version__\n"
      ],
      "execution_count": 3,
      "outputs": [
        {
          "output_type": "execute_result",
          "data": {
            "application/vnd.google.colaboratory.intrinsic+json": {
              "type": "string"
            },
            "text/plain": [
              "'1.1.4'"
            ]
          },
          "metadata": {
            "tags": []
          },
          "execution_count": 3
        }
      ]
    },
    {
      "cell_type": "code",
      "metadata": {
        "colab": {
          "base_uri": "https://localhost:8080/"
        },
        "id": "xeORk_w-r3bX",
        "outputId": "8cfa716d-4c6f-4d53-aa8f-6da6d825a1a3"
      },
      "source": [
        " series1 = pd.Series([1,3,4,4,5,7,8,8,6,54])\n",
        " print(series1)"
      ],
      "execution_count": 6,
      "outputs": [
        {
          "output_type": "stream",
          "text": [
            "0     1\n",
            "1     3\n",
            "2     4\n",
            "3     4\n",
            "4     5\n",
            "5     7\n",
            "6     8\n",
            "7     8\n",
            "8     6\n",
            "9    54\n",
            "dtype: int64\n"
          ],
          "name": "stdout"
        }
      ]
    },
    {
      "cell_type": "code",
      "metadata": {
        "colab": {
          "base_uri": "https://localhost:8080/"
        },
        "id": "cFNwB9s-sXkZ",
        "outputId": "9b6bd5e2-49f0-4e0f-d8a5-f88541c75b32"
      },
      "source": [
        "type(series1)"
      ],
      "execution_count": 7,
      "outputs": [
        {
          "output_type": "execute_result",
          "data": {
            "text/plain": [
              "pandas.core.series.Series"
            ]
          },
          "metadata": {
            "tags": []
          },
          "execution_count": 7
        }
      ]
    },
    {
      "cell_type": "code",
      "metadata": {
        "colab": {
          "base_uri": "https://localhost:8080/"
        },
        "id": "lcLMC8FmsaOe",
        "outputId": "516d9fe7-aea3-4412-f30e-b1b9cb8bd8ce"
      },
      "source": [
        "series2 = pd.Series([1,3,4,4,5])\n",
        "print(series2)"
      ],
      "execution_count": 9,
      "outputs": [
        {
          "output_type": "stream",
          "text": [
            "0    1\n",
            "1    3\n",
            "2    4\n",
            "3    4\n",
            "4    5\n",
            "dtype: int64\n"
          ],
          "name": "stdout"
        }
      ]
    },
    {
      "cell_type": "code",
      "metadata": {
        "colab": {
          "base_uri": "https://localhost:8080/"
        },
        "id": "JK_U9qgXsncA",
        "outputId": "89b30f11-43ed-4b9a-827a-b1c01a43cc6f"
      },
      "source": [
        "empty_series = pd.Series([])\n",
        "empty_series"
      ],
      "execution_count": 11,
      "outputs": [
        {
          "output_type": "stream",
          "text": [
            "/usr/local/lib/python3.6/dist-packages/ipykernel_launcher.py:1: DeprecationWarning: The default dtype for empty Series will be 'object' instead of 'float64' in a future version. Specify a dtype explicitly to silence this warning.\n",
            "  \"\"\"Entry point for launching an IPython kernel.\n"
          ],
          "name": "stderr"
        },
        {
          "output_type": "execute_result",
          "data": {
            "text/plain": [
              "Series([], dtype: float64)"
            ]
          },
          "metadata": {
            "tags": []
          },
          "execution_count": 11
        }
      ]
    },
    {
      "cell_type": "code",
      "metadata": {
        "colab": {
          "base_uri": "https://localhost:8080/"
        },
        "id": "5vZkdZPEsvDn",
        "outputId": "f43fafe6-f861-4125-eeec-9068932b2817"
      },
      "source": [
        "series3 = pd.Series([1,3,4],index=['a','b','c'])\n",
        "print(series3)"
      ],
      "execution_count": 14,
      "outputs": [
        {
          "output_type": "stream",
          "text": [
            "a    1\n",
            "b    3\n",
            "c    4\n",
            "dtype: int64\n"
          ],
          "name": "stdout"
        }
      ]
    },
    {
      "cell_type": "code",
      "metadata": {
        "colab": {
          "base_uri": "https://localhost:8080/"
        },
        "id": "y_k-TxyVw-Lo",
        "outputId": "8e9e8fad-89b6-4e41-d06b-d46c27acca43"
      },
      "source": [
        "series3 = pd.Series([1,3,4],index=['a','b','c'],dtype=float)\n",
        "print(series3)"
      ],
      "execution_count": 3,
      "outputs": [
        {
          "output_type": "stream",
          "text": [
            "a    1.0\n",
            "b    3.0\n",
            "c    4.0\n",
            "dtype: float64\n"
          ],
          "name": "stdout"
        }
      ]
    },
    {
      "cell_type": "code",
      "metadata": {
        "colab": {
          "base_uri": "https://localhost:8080/"
        },
        "id": "y4zquR4YQQsR",
        "outputId": "dda9d90d-c38b-457c-9378-80f82c5e93fd"
      },
      "source": [
        "series3 = pd.Series([1,3,4],index=['a','b','c'],dtype=float,name='data values')\n",
        "print(series3)"
      ],
      "execution_count": 4,
      "outputs": [
        {
          "output_type": "stream",
          "text": [
            "a    1.0\n",
            "b    3.0\n",
            "c    4.0\n",
            "Name: data values, dtype: float64\n"
          ],
          "name": "stdout"
        }
      ]
    },
    {
      "cell_type": "code",
      "metadata": {
        "colab": {
          "base_uri": "https://localhost:8080/"
        },
        "id": "0228OrRXQYFi",
        "outputId": "0caddde2-b73d-412a-eef3-6be49e026779"
      },
      "source": [
        "scaller_s = pd.Series(0.5)\n",
        "print(scaller_s)"
      ],
      "execution_count": 6,
      "outputs": [
        {
          "output_type": "stream",
          "text": [
            "0    0.5\n",
            "dtype: float64\n"
          ],
          "name": "stdout"
        }
      ]
    },
    {
      "cell_type": "code",
      "metadata": {
        "colab": {
          "base_uri": "https://localhost:8080/"
        },
        "id": "FtHYfQpLTgKJ",
        "outputId": "f4f86689-644c-438f-e6a9-cfa00414d20a"
      },
      "source": [
        "dict_s = pd.Series({'a':1,'b':2})\n",
        "print(dict_s)"
      ],
      "execution_count": 7,
      "outputs": [
        {
          "output_type": "stream",
          "text": [
            "a    1\n",
            "b    2\n",
            "dtype: int64\n"
          ],
          "name": "stdout"
        }
      ]
    },
    {
      "cell_type": "code",
      "metadata": {
        "id": "sIWP53-yT1Vx"
      },
      "source": [
        "s4 = pd.Series([1,2,3,4,5])"
      ],
      "execution_count": 12,
      "outputs": []
    },
    {
      "cell_type": "code",
      "metadata": {
        "colab": {
          "base_uri": "https://localhost:8080/"
        },
        "id": "G_jjvrdoT53g",
        "outputId": "501c85b8-65e5-495c-9ec3-53906c2af95e"
      },
      "source": [
        "max(s4)"
      ],
      "execution_count": 9,
      "outputs": [
        {
          "output_type": "execute_result",
          "data": {
            "text/plain": [
              "4"
            ]
          },
          "metadata": {
            "tags": []
          },
          "execution_count": 9
        }
      ]
    },
    {
      "cell_type": "code",
      "metadata": {
        "colab": {
          "base_uri": "https://localhost:8080/"
        },
        "id": "6MO0eEVWT7yy",
        "outputId": "75c4aa0a-50b0-4805-f8dc-e3e40a9bd79e"
      },
      "source": [
        "s4[0:2]"
      ],
      "execution_count": 10,
      "outputs": [
        {
          "output_type": "execute_result",
          "data": {
            "text/plain": [
              "0    1\n",
              "1    2\n",
              "dtype: int64"
            ]
          },
          "metadata": {
            "tags": []
          },
          "execution_count": 10
        }
      ]
    },
    {
      "cell_type": "code",
      "metadata": {
        "colab": {
          "base_uri": "https://localhost:8080/"
        },
        "id": "pXI82BxxT9oF",
        "outputId": "a14e4628-12b3-4881-b821-03e5ac9fa664"
      },
      "source": [
        "s4[s4>3]"
      ],
      "execution_count": 11,
      "outputs": [
        {
          "output_type": "execute_result",
          "data": {
            "text/plain": [
              "3    4\n",
              "dtype: int64"
            ]
          },
          "metadata": {
            "tags": []
          },
          "execution_count": 11
        }
      ]
    },
    {
      "cell_type": "code",
      "metadata": {
        "id": "VCk4oysqUA6E"
      },
      "source": [
        "s5 = pd.Series([1,2,3,4,5])"
      ],
      "execution_count": 13,
      "outputs": []
    },
    {
      "cell_type": "code",
      "metadata": {
        "colab": {
          "base_uri": "https://localhost:8080/"
        },
        "id": "9BM4ddJ6UO5_",
        "outputId": "52188f83-4eb3-4532-fcd9-60694152e73f"
      },
      "source": [
        "s4+s5"
      ],
      "execution_count": 14,
      "outputs": [
        {
          "output_type": "execute_result",
          "data": {
            "text/plain": [
              "0     2\n",
              "1     4\n",
              "2     6\n",
              "3     8\n",
              "4    10\n",
              "dtype: int64"
            ]
          },
          "metadata": {
            "tags": []
          },
          "execution_count": 14
        }
      ]
    },
    {
      "cell_type": "code",
      "metadata": {
        "id": "DjAvpAZQUUwK"
      },
      "source": [
        "s6 = pd.Series([1,2,3])"
      ],
      "execution_count": 15,
      "outputs": []
    },
    {
      "cell_type": "code",
      "metadata": {
        "colab": {
          "base_uri": "https://localhost:8080/"
        },
        "id": "l13ao7LKUYYP",
        "outputId": "e0b53c8d-477e-44da-b396-c6019df0eee8"
      },
      "source": [
        "s5+s6"
      ],
      "execution_count": 16,
      "outputs": [
        {
          "output_type": "execute_result",
          "data": {
            "text/plain": [
              "0    2.0\n",
              "1    4.0\n",
              "2    6.0\n",
              "3    NaN\n",
              "4    NaN\n",
              "dtype: float64"
            ]
          },
          "metadata": {
            "tags": []
          },
          "execution_count": 16
        }
      ]
    },
    {
      "cell_type": "code",
      "metadata": {
        "id": "DEqJeKvzUeR_"
      },
      "source": [
        ""
      ],
      "execution_count": null,
      "outputs": []
    }
  ]
}