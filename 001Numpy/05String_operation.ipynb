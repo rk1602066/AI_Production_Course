{
  "nbformat": 4,
  "nbformat_minor": 0,
  "metadata": {
    "colab": {
      "name": "Untitled24.ipynb",
      "provenance": []
    },
    "kernelspec": {
      "name": "python3",
      "display_name": "Python 3"
    }
  },
  "cells": [
    {
      "cell_type": "code",
      "metadata": {
        "id": "hAPibZ6vmjN_"
      },
      "source": [
        "import numpy as np"
      ],
      "execution_count": 1,
      "outputs": []
    },
    {
      "cell_type": "code",
      "metadata": {
        "id": "LwKVtRWsyFgf"
      },
      "source": [
        "ch_name = 'BD ai PRODUCTION'\n",
        "str1 = 'learning numpy'"
      ],
      "execution_count": 2,
      "outputs": []
    },
    {
      "cell_type": "code",
      "metadata": {
        "colab": {
          "base_uri": "https://localhost:8080/"
        },
        "id": "W4I3_GPiyw1g",
        "outputId": "f8f9c707-2816-46b6-c84f-07df48de7d85"
      },
      "source": [
        "np.char.add(ch_name,str1)"
      ],
      "execution_count": 3,
      "outputs": [
        {
          "output_type": "execute_result",
          "data": {
            "text/plain": [
              "array('BD ai PRODUCTIONlearning numpy', dtype='<U30')"
            ]
          },
          "metadata": {
            "tags": []
          },
          "execution_count": 3
        }
      ]
    },
    {
      "cell_type": "code",
      "metadata": {
        "colab": {
          "base_uri": "https://localhost:8080/"
        },
        "id": "3Pk-j6hMy16t",
        "outputId": "4b593e9a-2142-4c6d-dde9-871818bf299c"
      },
      "source": [
        "np.char.lower(ch_name)"
      ],
      "execution_count": 4,
      "outputs": [
        {
          "output_type": "execute_result",
          "data": {
            "text/plain": [
              "array('bd ai production', dtype='<U16')"
            ]
          },
          "metadata": {
            "tags": []
          },
          "execution_count": 4
        }
      ]
    },
    {
      "cell_type": "code",
      "metadata": {
        "colab": {
          "base_uri": "https://localhost:8080/"
        },
        "id": "_Ia8julFzBU7",
        "outputId": "7b049406-9a36-4c8f-e53d-d879a596628f"
      },
      "source": [
        "np.char.upper(ch_name)"
      ],
      "execution_count": 5,
      "outputs": [
        {
          "output_type": "execute_result",
          "data": {
            "text/plain": [
              "array('BD AI PRODUCTION', dtype='<U16')"
            ]
          },
          "metadata": {
            "tags": []
          },
          "execution_count": 5
        }
      ]
    },
    {
      "cell_type": "code",
      "metadata": {
        "colab": {
          "base_uri": "https://localhost:8080/"
        },
        "id": "UU1Kp6G2zG4v",
        "outputId": "5cacd88d-51c7-4971-dcb4-495581ac37f8"
      },
      "source": [
        "np.char.center(str1,30)"
      ],
      "execution_count": 6,
      "outputs": [
        {
          "output_type": "execute_result",
          "data": {
            "text/plain": [
              "array('        learning numpy        ', dtype='<U30')"
            ]
          },
          "metadata": {
            "tags": []
          },
          "execution_count": 6
        }
      ]
    },
    {
      "cell_type": "code",
      "metadata": {
        "colab": {
          "base_uri": "https://localhost:8080/"
        },
        "id": "vkS9p1xIzOy5",
        "outputId": "1c03ae21-f92e-4f37-db04-b235862f7eec"
      },
      "source": [
        "np.char.center(str1,30,fillchar='.')"
      ],
      "execution_count": 8,
      "outputs": [
        {
          "output_type": "execute_result",
          "data": {
            "text/plain": [
              "array('........learning numpy........', dtype='<U30')"
            ]
          },
          "metadata": {
            "tags": []
          },
          "execution_count": 8
        }
      ]
    },
    {
      "cell_type": "code",
      "metadata": {
        "colab": {
          "base_uri": "https://localhost:8080/"
        },
        "id": "qW6iLm4LzUWP",
        "outputId": "9283acc1-4949-4572-e92a-0e959878c5f0"
      },
      "source": [
        "np.char.split(str1)"
      ],
      "execution_count": 9,
      "outputs": [
        {
          "output_type": "execute_result",
          "data": {
            "text/plain": [
              "array(list(['learning', 'numpy']), dtype=object)"
            ]
          },
          "metadata": {
            "tags": []
          },
          "execution_count": 9
        }
      ]
    },
    {
      "cell_type": "code",
      "metadata": {
        "colab": {
          "base_uri": "https://localhost:8080/"
        },
        "id": "jRbL6SkmzfR2",
        "outputId": "9fec89e6-8489-47aa-9df5-5a0a335422dd"
      },
      "source": [
        "np.char.splitlines('hello\\nBd')"
      ],
      "execution_count": 10,
      "outputs": [
        {
          "output_type": "execute_result",
          "data": {
            "text/plain": [
              "array(list(['hello', 'Bd']), dtype=object)"
            ]
          },
          "metadata": {
            "tags": []
          },
          "execution_count": 10
        }
      ]
    },
    {
      "cell_type": "code",
      "metadata": {
        "id": "ebjs4qLXzsCr"
      },
      "source": [
        "st4='dmy'\n",
        "st5='dmy'"
      ],
      "execution_count": 11,
      "outputs": []
    },
    {
      "cell_type": "code",
      "metadata": {
        "colab": {
          "base_uri": "https://localhost:8080/"
        },
        "id": "OYwVxyaaz5QI",
        "outputId": "c5dc8e19-acd4-41a5-e47b-0c88eb6df405"
      },
      "source": [
        "np.char.join([':','/'],[st4,st5])"
      ],
      "execution_count": 14,
      "outputs": [
        {
          "output_type": "execute_result",
          "data": {
            "text/plain": [
              "array(['d:m:y', 'd/m/y'], dtype='<U5')"
            ]
          },
          "metadata": {
            "tags": []
          },
          "execution_count": 14
        }
      ]
    },
    {
      "cell_type": "code",
      "metadata": {
        "colab": {
          "base_uri": "https://localhost:8080/"
        },
        "id": "-m0mjrMs0IA2",
        "outputId": "122e636d-151d-467c-c852-62d2ead2791a"
      },
      "source": [
        "np.char.join([':'],[st4])"
      ],
      "execution_count": 16,
      "outputs": [
        {
          "output_type": "execute_result",
          "data": {
            "text/plain": [
              "array(['d:m:y'], dtype='<U5')"
            ]
          },
          "metadata": {
            "tags": []
          },
          "execution_count": 16
        }
      ]
    },
    {
      "cell_type": "code",
      "metadata": {
        "id": "jeaA1_4X46SE",
        "outputId": "411e4118-48fe-49ae-db40-696f7cfafc17",
        "colab": {
          "base_uri": "https://localhost:8080/"
        }
      },
      "source": [
        "np.char.replace(ch_name,'ai','AI')"
      ],
      "execution_count": 21,
      "outputs": [
        {
          "output_type": "execute_result",
          "data": {
            "text/plain": [
              "array('BD AI PRODUCTION', dtype='<U16')"
            ]
          },
          "metadata": {
            "tags": []
          },
          "execution_count": 21
        }
      ]
    },
    {
      "cell_type": "code",
      "metadata": {
        "id": "rudnDJI65P7d",
        "outputId": "0e3d1fa7-d44e-4845-c502-41c48b70312f",
        "colab": {
          "base_uri": "https://localhost:8080/"
        }
      },
      "source": [
        "np.char.equal(st4,st5)"
      ],
      "execution_count": 17,
      "outputs": [
        {
          "output_type": "execute_result",
          "data": {
            "text/plain": [
              "array(True)"
            ]
          },
          "metadata": {
            "tags": []
          },
          "execution_count": 17
        }
      ]
    },
    {
      "cell_type": "code",
      "metadata": {
        "id": "PiJEY4Wc5b9w",
        "outputId": "b30eddb0-065e-4622-fd59-7a0f914f6213",
        "colab": {
          "base_uri": "https://localhost:8080/"
        }
      },
      "source": [
        "np.char.count(ch_name,'a')"
      ],
      "execution_count": 18,
      "outputs": [
        {
          "output_type": "execute_result",
          "data": {
            "text/plain": [
              "array(1)"
            ]
          },
          "metadata": {
            "tags": []
          },
          "execution_count": 18
        }
      ]
    },
    {
      "cell_type": "code",
      "metadata": {
        "id": "wLaOjf-P5i89",
        "outputId": "8c2695e2-4070-488a-89ca-7a7a3359b093",
        "colab": {
          "base_uri": "https://localhost:8080/"
        }
      },
      "source": [
        "np.char.find(ch_name,'ai')"
      ],
      "execution_count": 22,
      "outputs": [
        {
          "output_type": "execute_result",
          "data": {
            "text/plain": [
              "array(3)"
            ]
          },
          "metadata": {
            "tags": []
          },
          "execution_count": 22
        }
      ]
    }
  ]
}